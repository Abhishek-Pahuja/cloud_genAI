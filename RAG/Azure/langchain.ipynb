{
 "cells": [
  {
   "cell_type": "code",
   "execution_count": 1,
   "id": "f4b9f70f",
   "metadata": {},
   "outputs": [
    {
     "name": "stderr",
     "output_type": "stream",
     "text": [
      "/Users/apahuja/Applications/miniconda3/envs/cloud_genai/lib/python3.11/site-packages/tqdm/auto.py:21: TqdmWarning: IProgress not found. Please update jupyter and ipywidgets. See https://ipywidgets.readthedocs.io/en/stable/user_install.html\n",
      "  from .autonotebook import tqdm as notebook_tqdm\n"
     ]
    }
   ],
   "source": [
    "import os\n",
    "\n",
    "from langchain_community.vectorstores.azuresearch import AzureSearch\n",
    "from langchain_openai import AzureOpenAIEmbeddings, OpenAIEmbeddings"
   ]
  },
  {
   "cell_type": "code",
   "execution_count": 2,
   "id": "caecccf0",
   "metadata": {},
   "outputs": [],
   "source": [
    "azure_endpoint: str = os.getenv(\"AZURE_OPENAI_ENDPOINT\")\n",
    "azure_openai_api_key: str = os.getenv(\"AZURE_OPENAI_API_KEY\")\n",
    "azure_openai_api_version: str = \"2023-05-15\"\n",
    "azure_deployment: str = \"text-embedding-3-small\""
   ]
  },
  {
   "cell_type": "code",
   "execution_count": 3,
   "id": "38277a6a",
   "metadata": {},
   "outputs": [],
   "source": [
    "vector_store_address: str = os.getenv(\"VECTOR_STORE_ADDRESS_Free\")\n",
    "vector_store_password: str = os.getenv(\"VECTOR_STORE_PASSWORD_Free\")"
   ]
  },
  {
   "cell_type": "code",
   "execution_count": 4,
   "id": "1531bab9",
   "metadata": {},
   "outputs": [],
   "source": [
    "# Use AzureOpenAIEmbeddings with an Azure account\n",
    "embeddings: AzureOpenAIEmbeddings = AzureOpenAIEmbeddings(\n",
    "    azure_deployment=azure_deployment,\n",
    "    openai_api_version=azure_openai_api_version,\n",
    "    azure_endpoint=azure_endpoint,\n",
    "    api_key=azure_openai_api_key,\n",
    ")"
   ]
  },
  {
   "cell_type": "code",
   "execution_count": 5,
   "id": "8da99bc8",
   "metadata": {},
   "outputs": [],
   "source": [
    "index_name: str = \"langchain-vector-demo\"\n",
    "# Specify additional properties for the Azure client such as the following https://github.com/Azure/azure-sdk-for-python/blob/main/sdk/core/azure-core/README.md#configurations\n",
    "vector_store: AzureSearch = AzureSearch(\n",
    "    azure_search_endpoint=vector_store_address,\n",
    "    azure_search_key=vector_store_password,\n",
    "    index_name=index_name,\n",
    "    embedding_function=embeddings.embed_query,\n",
    "    # Configure max retries for the Azure client\n",
    "    additional_search_client_options={\"retry_total\": 4},\n",
    ")"
   ]
  },
  {
   "cell_type": "markdown",
   "id": "f80ec847",
   "metadata": {},
   "source": [
    "#### NLP Read Documents"
   ]
  },
  {
   "cell_type": "code",
   "execution_count": 6,
   "id": "4c876fe8",
   "metadata": {},
   "outputs": [],
   "source": [
    "from langchain_community.document_loaders import UnstructuredPDFLoader\n",
    "\n",
    "file_path = \"/Users/apahuja/MacWorkspace/cloud_genAI/Sample_Data/Agency-files-documents/Agency Manual MA Combines Files/AP-2 12 22.pdf\"\n",
    "loader = UnstructuredPDFLoader(file_path)"
   ]
  },
  {
   "cell_type": "code",
   "execution_count": null,
   "id": "d67c8dc7",
   "metadata": {},
   "outputs": [],
   "source": [
    "import os, nltk\n",
    "nltk.data.path.append(os.path.join(os.getcwd(), \"nltk_data\"))\n",
    "\n",
    "# Core tokenizers\n",
    "nltk.download(\"punkt\")\n",
    "\n",
    "# POS tagger (older name used by many libs)\n",
    "nltk.download(\"averaged_perceptron_tagger\")\n",
    "\n",
    "# If you're on newer NLTK (≥3.9), also grab the new name just in case:\n",
    "nltk.download(\"averaged_perceptron_tagger_eng\")\n",
    "\n",
    "\n"
   ]
  },
  {
   "cell_type": "code",
   "execution_count": 13,
   "id": "36d2247a",
   "metadata": {},
   "outputs": [
    {
     "name": "stdout",
     "output_type": "stream",
     "text": [
      "Warning: No languages specified, defaulting to English.\n"
     ]
    },
    {
     "data": {
      "text/plain": [
       "Document(metadata={'source': '/Users/apahuja/MacWorkspace/cloud_genAI/Sample_Data/Agency-files-documents/Agency Manual MA Combines Files/AP-2 12 22.pdf'}, page_content='COMMERCIAL AUTO\\n\\nAP-2 (12/22)\\n\\nTHIS ENDORSEMENT CHANGES THE POLICY. PLEASE READ IT CAREFULLY.\\n\\nAUTO ENHANCEMENT ENDORSEMENT\\n\\nThis endorsement modifies insurance provided under the following:\\n\\nBUSINESS AUTO COVERAGE FORM\\n\\n1. AIRBAG COVERAGE\\n\\nThe following is added to SECTION III - PHYSICAL DAMAGE COVERAGE, B.3.a. – Exclusions:\\n\\nMechanical breakdown does not include the accidental discharge of an airbag.\\n\\n2. AMENDED DEFINITION OF BODILY INJURY (Not Applicable in New York)\\n\\nUnder SECTION V – DEFINITIONS, the definition of bodily injury is deleted in its entirety and replaced by the following:\\n\\n“Bodily injury” means bodily injury, sickness or disease sustained by a person, including mental anguish or death resulting from any of these. Mental anguish damages are considered the direct result of and payable only to the person who sustains the physical injury.\\n\\n3. AMENDED FELLOW EMPLOYEE EXCLUSION\\n\\nSECTION II - LIABILITY COVERAGE, Paragraph B.5.a. Fellow Employee is replaced by the following:\\n\\n“Bodily Injury” to any fellow employee of the “insured” arising out of and in the course of the fellow employee’s employment or while performing duties related to the conduct of your business. However, we will cover “bodily injury” caused by your employee to his or her fellow employee if:\\n\\na. You have workers compensation insurance in force covering all your employees, and\\n\\nb. The “bodily injury” results from the use of a covered “auto” you own or hire.\\n\\nThis coverage is excess over any other collectible insurance.\\n\\n4. AUDIO, VISUAL AND ELECTRONIC DATA EQUIPMENT COVERAGE\\n\\nUnder SECTION III - PHYSICAL DAMAGE COVERAGE, Paragraph A.4., Coverage Extensions, the following is added:\\n\\nAudio, Visual And Electronic Data Equipment Coverage\\n\\na. We will pay, with respect to a covered “auto” you own or lease, for \"loss\" to any electronic equipment that\\n\\nreceives or transmits audio, visual or data signals. This coverage applies only if the equipment is permanently installed in the covered \"auto\" at the time of the \"loss\" or the equipment is removable from a housing unit which is permanently installed in the covered “auto’ at the time of the \"loss\", and such equipment is designed to be solely operated by use of the power from the \"auto’s\" electrical system, in or upon the covered \"auto\".\\n\\nb. We will pay, with respect to a covered “auto” you own or lease, for “loss” to any accessories used with\\n\\nthe electronic equipment. However, this does not include tapes, records or discs.\\n\\nc. We will pay only for the equipment permanently installed in a covered ‘auto” for which you carry\\n\\nComprehensive and Collision Coverages.\\n\\nd. The most we will pay for all “loss” to audio, visual or data electronic equipment and accessories used\\n\\nwith this equipment as a result of any one “accident” is the lesser of:\\n\\n(1) The actual cash value of the damaged or stolen property as of the time of the “loss”;\\n\\n(2) The cost of repairing or replacing the damaged or stolen property with other property of like kind and\\n\\nquality; or\\n\\n(3) $1,500.\\n\\ne.\\n\\nIf there is other coverage provided by this policy for audio, visual and data electronic equipment, the coverage provided herein is excess.\\n\\nAP-2 (12/22)\\n\\nIncludes copyrighted material of Insurance Services Office, Inc.\\n\\nPage 1 of 4\\n\\nwith its permission.\\n\\n\\uf06f\\n\\nCOMMERCIAL AUTO\\n\\nAP-2 (12/22)\\n\\n5. EMPLOYEES AS INSUREDS\\n\\nThe following is added to Paragraph A.1., Who Is An Insured, of SECTION II – LIABILITY COVERAGE:\\n\\nAn “employee” of yours is an “insured” while using a covered “auto” you don’t own, hire or borrow in your business or personal affairs.\\n\\nThis coverage is excess over any other valid and collectible insurance.\\n\\n6. EXPENSES FOR BAIL BONDS AND LOSS OF EARNINGS\\n\\nParagraphs (2) and (4) of SECTION II - LIABILITY COVERAGE, A.2.a. Supplementary Payments are deleted and replaced by the following:\\n\\n(2) Up to $3,000 for cost of bail bonds (including bonds for related traffic law violations) required because of\\n\\nan \"accident\" covered under this policy. We do not have to furnish these bonds.\\n\\n(4) All reasonable expenses incurred by the \"insured\" at our request, including actual loss of earnings up to\\n\\n$500 a day because of time off from work.\\n\\n7. GLASS BREAKAGE DEDUCTIBLE\\n\\nThe following is added to SECTION III - PHYSICAL DAMAGE COVERAGE, Paragraph A.3, Glass Breakage – Hitting A Bird Or Animal - Falling Objects Or Missiles:\\n\\nAny deductible shown in the Declarations as applicable to the covered \"auto\" will not apply to glass breakage if such glass is repaired, rather than replaced.\\n\\n8. HIRED AUTO PHYSICAL DAMAGE COVERAGE\\n\\nThe following is added to SECTION III - PHYSICAL DAMAGE COVERAGE, A.4. Coverage Extensions:\\n\\nHired Auto Physical Damage\\n\\nIf hired \"autos\" are covered \"autos\" for Liability Coverage, Physical Damage coverage is hereby extended to apply to Physical Damage “loss” to “autos” leased, hired, rented or borrowed without a driver. We will provide coverage equal to the broadest coverage available to any covered “auto” shown in the Declarations. But, the most we will pay for “loss” to each “auto” under this coverage extension is the lesser of:\\n\\na. $50,000;\\n\\nb. The actual cash value of the damaged or stolen property as of the time of the “loss”; or\\n\\nc. The cost of repairing or replacing the damaged or stolen property with other property of like kind and\\n\\nquality.\\n\\nFor each leased, hired, rented or borrowed “auto” our obligation to pay “losses” will be reduced by a deductible equal to the lowest deductible applicable to any owned “auto” for that coverage. No deductible will be applied to “losses” caused by fire or lightning.\\n\\nSECTION IV - BUSINESS AUTO CONDITIONS, B.5. Other Insurance Condition, Paragraph 5.b. is deleted in its entirety and replaced by the following:\\n\\nFor Hired Auto Physical Damage Coverage, the following are deemed to be covered “autos” you own:\\n\\na. Any covered “auto” you lease, hire, rent or borrow; and\\n\\nb. Any covered “auto” hired or rented by your “employee” under a contract or agreement in that “employee’s”\\n\\nname, with your permission, while performing duties related to the conduct of your business.\\n\\nHowever, any “auto” that is leased, hired, rented or borrowed with a driver is not a covered “auto”.\\n\\n9. HIRED AUTO LOSS OF USE COVERAGE\\n\\nThe following is added to SECTION III - PHYSICAL DAMAGE COVERAGE, A.4. Coverage Extensions:\\n\\nHired Auto Loss of Use\\n\\nWe will pay expenses which you are legally responsible to pay up to $65 per day subject to a maximum of $1,000 per “accident” for loss of use of a leased, hired, rented or borrowed “auto” if it results from an “accident”.\\n\\n10. NEWLY ACQUIRED OR FORMED ORGANIZATIONS\\n\\nThe following is added to Paragraph A.1., Who Is An Insured, of SECTION II – LIABILITY COVERAGE:\\n\\nAny organization you newly acquire or form, other than a partnership, joint venture or limited liability company, over which you maintain ownership or majority interest will quality as an insured if there is no other similar insurance available to that subsidiary or organization. However: a. Coverage under this provision is afforded only until the 180th day after you acquire or form the\\n\\nAP-2 (12/22)\\n\\nIncludes copyrighted material of Insurance Services Office, Inc.\\n\\nPage 2 of 4\\n\\nwith its permission.\\n\\n\\uf06f\\n\\nCOMMERCIAL AUTO\\n\\nAP-2 (12/22)\\n\\norganization or the end of the policy period, whichever is earlier;\\n\\nb. Coverage does not apply to “bodily injury” or “property damage” resulting from an “accident” that\\n\\noccurred before you acquired or formed the organization.\\n\\n11. NOTICE OF AND KNOWLEDGE OF OCCURRENCE\\n\\nUnder SECTION IV - BUSINESS AUTO CONDITIONS, Paragraph A.2.a. Duties in the Event of Accident, Claim, Suit or Loss is amended to add:\\n\\nThe requirement that you must notify us of an “accident” applies only when the “accident” is known to:\\n\\na. You, if you are an individual;\\n\\nb. A partner, if you are a partnership; or\\n\\nc. An executive officer or insurance manager, if you are a corporation.\\n\\n12. PERSONAL EFFECTS COVERAGE\\n\\nThe following is added to SECTION III - PHYSICAL DAMAGE COVERAGE, A.4. Coverage Extensions:\\n\\nPersonal Effects\\n\\nIf this policy provides Comprehensive Coverage for a covered “auto” you own and that covered “auto” is stolen, we will pay up to $500 for loss to personal effects that were in the covered “auto” at the time of theft. Personal effects do not include jewelry, tools, money, or securities. This coverage is excess over any other collectible insurance.\\n\\n13. POLICY PERIOD, COVERAGE TERRITORY\\n\\nUnder SECTION IV - BUSINESS AUTO CONDITIONS, Paragraph B.7., Policy Period, Coverage Territory is deleted in its entirety and replaced with the following:\\n\\nUnder this Coverage Form, we cover “accidents” and “losses” occurring:\\n\\na. During the policy period shown in the Declarations; and\\n\\nb. Within the coverage territory\\n\\nThe coverage territory is:\\n\\n(1) The United States of America (including its territories and possessions), Puerto Rico, and Canada; and\\n\\n(2) Anywhere in the world, for an “accident” or “loss” resulting from the use of a covered “auto” you hire\\n\\nwithout a driver, or your employee hires without a driver at your direction for the purpose of conducting your business, for a period of 30 days or less, provided the suit is brought within the United States of America or its territories or possessions.\\n\\nWe also cover “loss” to, or “accidents” involving, a covered “auto” while being transported between any of these places.\\n\\n14. RENTAL REIMBURSEMENT OR ADDITIONAL TRANSPORTATION EXPENSE COVERAGE (INCLUDING MATERIAL TRANSFER EXPENSE)\\n\\nSECTION III - PHYSICAL DAMAGE COVERAGE, A.4.a. Transportation Expenses is deleted in its entirety and replaced with the following:\\n\\na. Rental Reimbursement or Additional Transportation Expense (Including Material Transfer\\n\\nExpense)\\n\\nWe will pay for rental reimbursement of an “auto” of equivalent type and purpose as the covered “auto” involved in an “accident” or “loss”, additional transportation expenses, or any combination thereof incurred by you because of a loss to a covered “auto”, including expenses incurred by you to remove and transfer your materials and equipment from the covered auto. No deductible applies to this coverage.\\n\\nThe coverage limit provided herein applies in addition to any amount of rental reimbursement or loss of use coverage shown on the vehicle Schedule or Declarations of your policy.\\n\\nWe will pay only for those expenses incurred during the policy period beginning 24 hours after the loss and ending, regardless of the policy’s expiration, with the lesser of the following number of days:\\n\\n(1) The number of days reasonably required to repair or replace the covered “auto”, or\\n\\n(2) 30 days.\\n\\nOur payment is limited to the lesser of the following amounts:\\n\\n(1) Necessary and actual expenses incurred; or\\n\\n(2) $75 per day with a maximum amount in any one policy period of $1,500.\\n\\nAP-2 (12/22)\\n\\nIncludes copyrighted material of Insurance Services Office, Inc.\\n\\nPage 3 of 4\\n\\nwith its permission.\\n\\n\\uf06f\\n\\nCOMMERCIAL AUTO\\n\\nAP-2 (12/22)\\n\\nThis coverage does not apply while there are spare or reserve “autos” available to you within your “insured” organization for your operations.\\n\\nIf “loss” results from the total theft of a covered “auto” of the private passenger type, we will pay under this coverage only that amount of your rental reimbursement or additional transportation expense which is not already provided under Physical Damage Coverage Paragraph A.4. of SECTION III - PHYSICAL DAMAGE COVERAGE – PHYSICAL DAMAGE COVERAGE of the Business Auto Coverage Form.\\n\\n15. SIGN COVERAGE\\n\\nUnder SECTION III - PHYSICAL DAMAGE COVERAGE, Paragraph A.4. Coverage Extensions, the following is added:\\n\\nSign Coverage\\n\\nWe will pay for loss to signs, murals, paintings or graphics, which are displayed on a covered \"auto\" you own or lease for which you carry Comprehensive and Collision Coverages.\\n\\nThe most we will pay for \"loss\" in any one \"accident\" is the lesser of:\\n\\na. The cost of repairing or replacing the damaged or stolen sign with other property of like kind and\\n\\nquality; or\\n\\nb. $2,000.\\n\\n16. STOLEN AUTO RETURN EXPENSE\\n\\nUnder SECTION III - PHYSICAL DAMAGE COVERAGE, Paragraph A.4. Coverage Extensions, the following is added:\\n\\nExpense Of Returning A Stolen Auto\\n\\nWe will pay for the expense of returning a stolen covered “auto” to you subject to Paragraph C. Limit Of Insurance.\\n\\n17. TRANSFER OF RIGHTS OF RECOVERY AGAINST OTHERS TO US\\n\\nSECTION IV - BUSINESS AUTO CONDITIONS, Paragraph A.5, Transfer Of Rights Of Recovery Against Others To Us, is deleted and replaced by the following:\\n\\n5. Transfer Of Rights Of Recovery Against Others To Us\\n\\nIf any person or organization to or for whom we make payment under this Coverage Form has rights to recover damages from another, which have not been waived through the execution of an “insured contract\", written agreement, or permit, prior to the \"accident\" or \"loss\" giving rise to the payment, those rights to recover damages from another are transferred to us. That person or organization must do everything necessary to secure our rights and must do nothing after the \"accident\" or \"loss\" to impair them.\\n\\nAP-2 (12/22)\\n\\nIncludes copyrighted material of Insurance Services Office, Inc.\\n\\nPage 4 of 4\\n\\nwith its permission.\\n\\n\\uf06f')"
      ]
     },
     "execution_count": 13,
     "metadata": {},
     "output_type": "execute_result"
    }
   ],
   "source": [
    "docs = loader.load()\n",
    "docs[0]"
   ]
  },
  {
   "cell_type": "code",
   "execution_count": 20,
   "id": "d69867fb",
   "metadata": {},
   "outputs": [
    {
     "data": {
      "text/plain": [
       "13218"
      ]
     },
     "execution_count": 20,
     "metadata": {},
     "output_type": "execute_result"
    }
   ],
   "source": [
    "len(docs[0].page_content)"
   ]
  },
  {
   "cell_type": "code",
   "execution_count": null,
   "id": "dde9930e",
   "metadata": {},
   "outputs": [],
   "source": []
  }
 ],
 "metadata": {
  "kernelspec": {
   "display_name": "cloud_genai",
   "language": "python",
   "name": "python3"
  },
  "language_info": {
   "codemirror_mode": {
    "name": "ipython",
    "version": 3
   },
   "file_extension": ".py",
   "mimetype": "text/x-python",
   "name": "python",
   "nbconvert_exporter": "python",
   "pygments_lexer": "ipython3",
   "version": "3.11.13"
  }
 },
 "nbformat": 4,
 "nbformat_minor": 5
}
