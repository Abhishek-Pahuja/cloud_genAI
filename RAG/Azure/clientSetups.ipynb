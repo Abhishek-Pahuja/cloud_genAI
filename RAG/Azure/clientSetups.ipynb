{
 "cells": [
  {
   "cell_type": "markdown",
   "id": "71f3b94c",
   "metadata": {},
   "source": [
    "### LLM Clients"
   ]
  },
  {
   "cell_type": "code",
   "execution_count": null,
   "id": "cfa53586",
   "metadata": {},
   "outputs": [],
   "source": [
    "import os\n",
    "from openai import OpenAI\n",
    "from langchain_openai import AzureChatOpenAI\n",
    "\n",
    "# openaiclient = OpenAI(\n",
    "#     api_key=os.getenv(\"AZURE_OPENAI_API_KEY\"),\n",
    "#     base_url=os.getenv(\"AZURE_OPENAI_ENDPOINT_V1\"),\n",
    "# )\n",
    "\n",
    "# Responses API\n",
    "langchainClient= AzureChatOpenAI(\n",
    "            azure_endpoint=os.getenv(\"AZURE_OPENAI_ENDPOINT\"),\n",
    "            api_key=os.getenv(\"AZURE_OPENAI_API_KEY\"),\n",
    "            api_version=\"2025-04-01-preview\",\n",
    "            azure_deployment=\"gpt-5-nano\",\n",
    "            model=\"gpt-5-nano\",\n",
    "            use_responses_api=True,\n",
    "            output_version=\"responses/v1\",\n",
    "            reasoning={\"effort\": \"minimal\"},\n",
    "            verbosity=\"medium\"\n",
    "        )\n",
    "\n",
    "\n",
    "response = langchainClient.invoke(\n",
    "  \"This is a test.\"\n",
    ")\n"
   ]
  },
  {
   "cell_type": "code",
   "execution_count": 30,
   "id": "ba5e4392",
   "metadata": {},
   "outputs": [
    {
     "data": {
      "text/plain": [
       "[{'id': 'rs_04564a27a7be45a50069019566d9f08193aeedb6807c0492a8',\n",
       "  'summary': [],\n",
       "  'type': 'reasoning'},\n",
       " {'type': 'text',\n",
       "  'text': 'Hello! How can I help with your test? If you have a specific task or question, please share it.',\n",
       "  'annotations': [],\n",
       "  'id': 'msg_04564a27a7be45a50069019566ec9081938432e7462dc1eafa'}]"
      ]
     },
     "execution_count": 30,
     "metadata": {},
     "output_type": "execute_result"
    }
   ],
   "source": [
    "response.content"
   ]
  },
  {
   "cell_type": "code",
   "execution_count": null,
   "id": "57da9eb0",
   "metadata": {},
   "outputs": [
    {
     "ename": "SyntaxError",
     "evalue": "invalid syntax (2534064139.py, line 1)",
     "output_type": "error",
     "traceback": [
      "  \u001b[36mCell\u001b[39m\u001b[36m \u001b[39m\u001b[32mIn[39]\u001b[39m\u001b[32m, line 1\u001b[39m\n\u001b[31m    \u001b[39m\u001b[31mfrom .utils/ import display_functions\u001b[39m\n               ^\n\u001b[31mSyntaxError\u001b[39m\u001b[31m:\u001b[39m invalid syntax\n"
     ]
    }
   ],
   "source": [
    "import sys\n",
    "sys.path.append('../../')\n",
    "from utils import display_functions"
   ]
  },
  {
   "cell_type": "code",
   "execution_count": null,
   "id": "74c41c9f",
   "metadata": {},
   "outputs": [],
   "source": []
  }
 ],
 "metadata": {
  "kernelspec": {
   "display_name": "cloud_genai",
   "language": "python",
   "name": "python3"
  },
  "language_info": {
   "codemirror_mode": {
    "name": "ipython",
    "version": 3
   },
   "file_extension": ".py",
   "mimetype": "text/x-python",
   "name": "python",
   "nbconvert_exporter": "python",
   "pygments_lexer": "ipython3",
   "version": "3.11.13"
  }
 },
 "nbformat": 4,
 "nbformat_minor": 5
}
