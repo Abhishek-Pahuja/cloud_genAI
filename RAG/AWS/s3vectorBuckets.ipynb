{
 "cells": [
  {
   "cell_type": "code",
   "execution_count": 5,
   "id": "753e9c91",
   "metadata": {},
   "outputs": [],
   "source": [
    "# Populate a vector index with embeddings from Amazon Titan Text Embeddings V2.\n",
    "import boto3\n",
    "import json\n",
    "\n",
    "# Create Bedrock Runtime and S3 Vectors clients in the AWS Region of your choice. \n",
    "bedrockclient = boto3.client(\"bedrock-runtime\", region_name=\"us-east-1\")\n",
    "s3vectorsclient = boto3.client(\"s3vectors\", region_name=\"us-east-1\")"
   ]
  },
  {
   "cell_type": "code",
   "execution_count": 6,
   "id": "cbb9c9d7",
   "metadata": {},
   "outputs": [],
   "source": [
    "response = s3vectorsclient.create_index(\n",
    "    vectorBucketName='evoq-s3-vectorbucket-1',\n",
    "    # vectorBucketArn='arn:aws:s3vectors:us-east-1:382206728608:bucket/evoq-s3-vectorbucket-1',\n",
    "    indexName='evoq-index-01',\n",
    "    dataType='float32',\n",
    "    dimension=1024,\n",
    "    distanceMetric='cosine',\n",
    "    metadataConfiguration={\n",
    "        'nonFilterableMetadataKeys': [\n",
    "            'string',\n",
    "        ]\n",
    "    }\n",
    ")"
   ]
  },
  {
   "cell_type": "code",
   "execution_count": null,
   "id": "3d58be6a",
   "metadata": {},
   "outputs": [],
   "source": []
  }
 ],
 "metadata": {
  "kernelspec": {
   "display_name": "cloud_genai",
   "language": "python",
   "name": "python3"
  },
  "language_info": {
   "codemirror_mode": {
    "name": "ipython",
    "version": 3
   },
   "file_extension": ".py",
   "mimetype": "text/x-python",
   "name": "python",
   "nbconvert_exporter": "python",
   "pygments_lexer": "ipython3",
   "version": "3.11.13"
  }
 },
 "nbformat": 4,
 "nbformat_minor": 5
}
